{
  "nbformat": 4,
  "nbformat_minor": 0,
  "metadata": {
    "colab": {
      "name": "TF_intro_02.ipynb",
      "private_outputs": true,
      "provenance": [],
      "collapsed_sections": [],
      "authorship_tag": "ABX9TyM439wK50jfBocQ0q5nSHGX",
      "include_colab_link": true
    },
    "kernelspec": {
      "name": "python3",
      "display_name": "Python 3"
    },
    "language_info": {
      "name": "python"
    }
  },
  "cells": [
    {
      "cell_type": "markdown",
      "metadata": {
        "id": "view-in-github",
        "colab_type": "text"
      },
      "source": [
        "<a href=\"https://colab.research.google.com/github/Flantropy/notebooks/blob/main/TF_intro_02.ipynb\" target=\"_parent\"><img src=\"https://colab.research.google.com/assets/colab-badge.svg\" alt=\"Open In Colab\"/></a>"
      ]
    },
    {
      "cell_type": "markdown",
      "metadata": {
        "id": "ZXRGu9i9nW1o"
      },
      "source": [
        "# Introduction to Regression problems with Neural Networks in TensorFlow"
      ]
    },
    {
      "cell_type": "code",
      "metadata": {
        "id": "yvd_-u-enkdC"
      },
      "source": [
        "import tensorflow as tf\n",
        "import numpy as np\n",
        "import matplotlib.pyplot as plt"
      ],
      "execution_count": null,
      "outputs": []
    },
    {
      "cell_type": "markdown",
      "metadata": {
        "id": "Wqr2HQ841rqT"
      },
      "source": [
        "## Creating data to view and fit\n"
      ]
    },
    {
      "cell_type": "code",
      "metadata": {
        "id": "qNL6EboO2E9C"
      },
      "source": [
        "# Create features\n",
        "X = tf.constant(range(-7, 15, 3), dtype=np.float32)\n",
        "# Create labels\n",
        "y = tf.constant(range(3, 25, 3), dtype=np.float32)\n",
        "X, y"
      ],
      "execution_count": null,
      "outputs": []
    },
    {
      "cell_type": "code",
      "metadata": {
        "id": "8DF148x02sTO"
      },
      "source": [
        "plt.scatter(X, y)"
      ],
      "execution_count": null,
      "outputs": []
    },
    {
      "cell_type": "code",
      "metadata": {
        "id": "ereChcBu3zyp"
      },
      "source": [
        "y == X + 10"
      ],
      "execution_count": null,
      "outputs": []
    },
    {
      "cell_type": "markdown",
      "metadata": {
        "id": "sTbQMt1M4Z30"
      },
      "source": [
        "## I/O shapes"
      ]
    },
    {
      "cell_type": "code",
      "metadata": {
        "id": "RKg48gVe4g7v"
      },
      "source": [
        "house_info = tf.constant(['bedroom', 'bathroom', 'garage'])\n",
        "house_price = tf.constant([939700])\n",
        "house_info.shape, house_price.shape"
      ],
      "execution_count": null,
      "outputs": []
    },
    {
      "cell_type": "markdown",
      "metadata": {
        "id": "sOMYW-zl5ZBY"
      },
      "source": [
        "## Moddelling"
      ]
    },
    {
      "cell_type": "code",
      "metadata": {
        "id": "ZFDPqUAQAUFJ"
      },
      "source": [
        "tf.random.set_seed(42)\n",
        "\n",
        "# step 1. Creating\n",
        "model = tf.keras.Sequential(\n",
        "    [\n",
        "     tf.keras.layers.Dense(1)\n",
        "    ])\n",
        "\n",
        "# step 2. Compiling\n",
        "model.compile(\n",
        "    loss=tf.keras.losses.mae,\n",
        "    optimizer=tf.keras.optimizers.SGD(),\n",
        "    metrics=['mae']\n",
        ")\n",
        "\n",
        "# step 3. Fitting\n",
        "model.fit(X, y, epochs=5)"
      ],
      "execution_count": null,
      "outputs": []
    },
    {
      "cell_type": "code",
      "metadata": {
        "id": "EBbLFr7-Gpoa"
      },
      "source": [
        "X, y"
      ],
      "execution_count": null,
      "outputs": []
    },
    {
      "cell_type": "code",
      "metadata": {
        "id": "5plAMg7AGr8U"
      },
      "source": [
        "y_pred = model.predict([17.])\n",
        "y_pred"
      ],
      "execution_count": null,
      "outputs": []
    },
    {
      "cell_type": "markdown",
      "metadata": {
        "id": "TmBboQKsG7BQ"
      },
      "source": [
        "## Improving"
      ]
    },
    {
      "cell_type": "code",
      "metadata": {
        "id": "UcDp0VzTHjY-"
      },
      "source": [
        ""
      ],
      "execution_count": null,
      "outputs": []
    }
  ]
}