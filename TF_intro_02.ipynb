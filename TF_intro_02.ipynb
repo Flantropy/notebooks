{
  "nbformat": 4,
  "nbformat_minor": 0,
  "metadata": {
    "colab": {
      "name": "TF_intro_02.ipynb",
      "private_outputs": true,
      "provenance": [],
      "collapsed_sections": [
        "Wqr2HQ841rqT",
        "sTbQMt1M4Z30",
        "sOMYW-zl5ZBY",
        "TmBboQKsG7BQ",
        "oPhwYLjsNISC",
        "9TBD6xRPdlLG",
        "Wpr52rr5mV0z",
        "_AIOy2YzIwIl",
        "-gU6tqdjS8W4"
      ],
      "mount_file_id": "1LCTUE394kJUUaGvLygTd08Jv07mDyoP8",
      "authorship_tag": "ABX9TyO7g3JJcHSnr97Uqq82ku62",
      "include_colab_link": true
    },
    "kernelspec": {
      "name": "python3",
      "display_name": "Python 3"
    },
    "language_info": {
      "name": "python"
    }
  },
  "cells": [
    {
      "cell_type": "markdown",
      "metadata": {
        "id": "view-in-github",
        "colab_type": "text"
      },
      "source": [
        "<a href=\"https://colab.research.google.com/github/Flantropy/notebooks/blob/main/TF_intro_02.ipynb\" target=\"_parent\"><img src=\"https://colab.research.google.com/assets/colab-badge.svg\" alt=\"Open In Colab\"/></a>"
      ]
    },
    {
      "cell_type": "markdown",
      "metadata": {
        "id": "ZXRGu9i9nW1o"
      },
      "source": [
        "# Introduction to Regression problems with Neural Networks in TensorFlow"
      ]
    },
    {
      "cell_type": "code",
      "metadata": {
        "id": "yvd_-u-enkdC"
      },
      "source": [
        "import tensorflow as tf\n",
        "import numpy as np\n",
        "import matplotlib.pyplot as plt\n",
        "from tensorflow.keras.utils import plot_model\n",
        "from google.colab import files"
      ],
      "execution_count": null,
      "outputs": []
    },
    {
      "cell_type": "markdown",
      "metadata": {
        "id": "Wqr2HQ841rqT"
      },
      "source": [
        "## Creating data to view and fit\n"
      ]
    },
    {
      "cell_type": "code",
      "metadata": {
        "id": "_eb7kTHqaTHl"
      },
      "source": [
        "# Make dataset\n",
        "X = tf.range(-100, 100, 4)  # features\n",
        "y = X + 10  # labels\n",
        "\n",
        "# Split the data into train and test sets\n",
        "X_train = X[:40]\n",
        "y_train = y[:40]\n",
        "\n",
        "X_test = X[40:]\n",
        "y_test = y[40:]"
      ],
      "execution_count": null,
      "outputs": []
    },
    {
      "cell_type": "code",
      "metadata": {
        "id": "8DF148x02sTO"
      },
      "source": [
        "plt.scatter(X, y)"
      ],
      "execution_count": null,
      "outputs": []
    },
    {
      "cell_type": "code",
      "metadata": {
        "id": "ereChcBu3zyp"
      },
      "source": [
        "y == X + 10"
      ],
      "execution_count": null,
      "outputs": []
    },
    {
      "cell_type": "markdown",
      "metadata": {
        "id": "sTbQMt1M4Z30"
      },
      "source": [
        "## I/O shapes"
      ]
    },
    {
      "cell_type": "code",
      "metadata": {
        "id": "RKg48gVe4g7v"
      },
      "source": [
        "house_info = tf.constant(['bedroom', 'bathroom', 'garage'])\n",
        "house_price = tf.constant([939700])\n",
        "house_info.shape, house_price.shape"
      ],
      "execution_count": null,
      "outputs": []
    },
    {
      "cell_type": "markdown",
      "metadata": {
        "id": "sOMYW-zl5ZBY"
      },
      "source": [
        "## Moddelling"
      ]
    },
    {
      "cell_type": "code",
      "metadata": {
        "id": "ZFDPqUAQAUFJ"
      },
      "source": [
        "tf.random.set_seed(42)\n",
        "\n",
        "# step 1. Creating\n",
        "model = tf.keras.Sequential([\n",
        "            tf.keras.layers.Dense(1)\n",
        "        ])\n",
        "\n",
        "# step 2. Compiling\n",
        "model.compile(\n",
        "    loss=tf.keras.losses.mae,\n",
        "    optimizer=tf.keras.optimizers.SGD(),\n",
        "    metrics=['mae']\n",
        ")\n",
        "\n",
        "# step 3. Fitting\n",
        "model.fit(X_train, y_train, epochs=5)"
      ],
      "execution_count": null,
      "outputs": []
    },
    {
      "cell_type": "code",
      "metadata": {
        "id": "5plAMg7AGr8U"
      },
      "source": [
        "y_pred = model.predict([9.])\n",
        "y_pred"
      ],
      "execution_count": null,
      "outputs": []
    },
    {
      "cell_type": "markdown",
      "metadata": {
        "id": "TmBboQKsG7BQ"
      },
      "source": [
        "## Improving"
      ]
    },
    {
      "cell_type": "code",
      "metadata": {
        "id": "UcDp0VzTHjY-"
      },
      "source": [
        "layers = [\n",
        "    tf.keras.layers.Dense(50, activation=None),\n",
        "    tf.keras.layers.Dense(1)\n",
        "    ]\n",
        "model = tf.keras.Sequential(layers)\n",
        "model.compile(\n",
        "    optimizer=tf.keras.optimizers.Adam(learning_rate=0.01),\n",
        "    loss='mae',\n",
        "    metrics=['mae'])\n",
        "model.fit(X_train, y_train, epochs=100)"
      ],
      "execution_count": null,
      "outputs": []
    },
    {
      "cell_type": "markdown",
      "metadata": {
        "id": "oPhwYLjsNISC"
      },
      "source": [
        "## Evaluating a model"
      ]
    },
    {
      "cell_type": "markdown",
      "metadata": {
        "id": "9TBD6xRPdlLG"
      },
      "source": [
        "### Visualizing the data"
      ]
    },
    {
      "cell_type": "code",
      "metadata": {
        "id": "11U9Md0Ley-w"
      },
      "source": [
        "plt.figure(figsize=(9, 6))\n",
        "plt.scatter(X_train, y_train, c='b', label='Training data')\n",
        "plt.scatter(X_test, y_test, c='g', label='Testing data')\n",
        "plt.legend();"
      ],
      "execution_count": null,
      "outputs": []
    },
    {
      "cell_type": "code",
      "metadata": {
        "id": "7H0SCGeJlhFL"
      },
      "source": [
        "tf.random.set_seed(420)\n",
        "layers = [\n",
        "    tf.keras.layers.Dense(10, input_shape=[1], name='input'),\n",
        "    tf.keras.layers.Dense(1, name='output')\n",
        "    ]\n",
        "model = tf.keras.Sequential(layers, name='anna')\n",
        "model.compile(\n",
        "    optimizer=tf.keras.optimizers.Adam(learning_rate=0.01),\n",
        "    loss='mae',\n",
        "    metrics=['mae'])\n",
        "model.fit(x=X_train, y=y_train, epochs=100, verbose=0)"
      ],
      "execution_count": null,
      "outputs": []
    },
    {
      "cell_type": "markdown",
      "metadata": {
        "id": "Wpr52rr5mV0z"
      },
      "source": [
        "### Visualizing the model"
      ]
    },
    {
      "cell_type": "code",
      "metadata": {
        "id": "gLCZ0P38meV2"
      },
      "source": [
        "model.summary()"
      ],
      "execution_count": null,
      "outputs": []
    },
    {
      "cell_type": "code",
      "metadata": {
        "id": "qXKiv5k7wKIZ"
      },
      "source": [
        "plot_model(model, show_shapes=True)"
      ],
      "execution_count": null,
      "outputs": []
    },
    {
      "cell_type": "markdown",
      "metadata": {
        "id": "_AIOy2YzIwIl"
      },
      "source": [
        "### Visualizing predictions"
      ]
    },
    {
      "cell_type": "code",
      "metadata": {
        "id": "T3h2OoN_PcT9"
      },
      "source": [
        "def plot_prediced_vs_expexted(test_data, test_labels, predictions):\n",
        "    plt.figure(figsize=(10, 7))\n",
        "    plt.scatter(test_data, test_labels, c='g', label='Testing data')\n",
        "    plt.scatter(test_data, predictions, c='r', label='Predictions')\n",
        "    plt.legend();"
      ],
      "execution_count": null,
      "outputs": []
    },
    {
      "cell_type": "code",
      "metadata": {
        "id": "H290Ife-KxPQ"
      },
      "source": [
        "y_pred = model.predict(X_test)\n",
        "plot_prediced_vs_expexted(X_test, y_test, y_pred)"
      ],
      "execution_count": null,
      "outputs": []
    },
    {
      "cell_type": "markdown",
      "metadata": {
        "id": "-gU6tqdjS8W4"
      },
      "source": [
        "### Evaluating predictions with regression evaluation metrics"
      ]
    },
    {
      "cell_type": "code",
      "metadata": {
        "id": "V7j-JXwzT_Ad"
      },
      "source": [
        "model.evaluate(X_test, y_test)"
      ],
      "execution_count": null,
      "outputs": []
    },
    {
      "cell_type": "code",
      "metadata": {
        "id": "5MIzw29mYkr9"
      },
      "source": [
        "mae = tf.keras.metrics.mae(y_test, tf.squeeze(y_pred))\n",
        "mae"
      ],
      "execution_count": null,
      "outputs": []
    },
    {
      "cell_type": "code",
      "metadata": {
        "id": "Le9CeHjZZW8A"
      },
      "source": [
        "mse = tf.keras.metrics.mse(y_test, tf.squeeze(y_pred))\n",
        "mse"
      ],
      "execution_count": null,
      "outputs": []
    },
    {
      "cell_type": "code",
      "metadata": {
        "id": "cr8xXL9bjdFQ"
      },
      "source": [
        "huber = tf.keras.losses.huber(y_test, tf.squeeze(y_pred))\n",
        "huber"
      ],
      "execution_count": null,
      "outputs": []
    },
    {
      "cell_type": "markdown",
      "metadata": {
        "id": "j6IHhqbIysEt"
      },
      "source": [
        "# Experimenting"
      ]
    },
    {
      "cell_type": "markdown",
      "metadata": {
        "id": "6O4JXaxgy-_b"
      },
      "source": [
        "## Creating model"
      ]
    },
    {
      "cell_type": "code",
      "metadata": {
        "id": "UcOCHm7zzCoQ"
      },
      "source": [
        "tf.random.set_seed(42)\n",
        "\n",
        "layers = [\n",
        "    tf.keras.layers.Dense(50),\n",
        "    tf.keras.layers.Dense(1),\n",
        "]\n",
        "\n",
        "mym = tf.keras.Sequential(layers)\n",
        "mym.compile(\n",
        "    optimizer=tf.keras.optimizers.Adamax(learning_rate=0.06),\n",
        "    loss=tf.keras.losses.mse,\n",
        "    metrics=['mae'],\n",
        ")\n",
        "mym.fit(X_train, y_train, epochs=200, verbose=0)"
      ],
      "execution_count": null,
      "outputs": []
    },
    {
      "cell_type": "code",
      "metadata": {
        "id": "otpQDbyq0fNj"
      },
      "source": [
        "preds = mym.predict(X_test)\n",
        "preds = preds.squeeze()\n",
        "y_test, preds"
      ],
      "execution_count": null,
      "outputs": []
    },
    {
      "cell_type": "code",
      "metadata": {
        "id": "nlFcGCAMzw0i"
      },
      "source": [
        "plot_prediced_vs_expexted(X_test, y_test, preds)"
      ],
      "execution_count": null,
      "outputs": []
    },
    {
      "cell_type": "code",
      "metadata": {
        "id": "T9UdLxeh1iKS"
      },
      "source": [
        "mae = tf.keras.metrics.mae(y_test, preds)\n",
        "mse = tf.keras.metrics.mse(y_test, preds)\n",
        "mae, mse"
      ],
      "execution_count": null,
      "outputs": []
    },
    {
      "cell_type": "code",
      "metadata": {
        "id": "p1rm3k4iBpGn"
      },
      "source": [
        "mym.predict([90009])"
      ],
      "execution_count": null,
      "outputs": []
    },
    {
      "cell_type": "markdown",
      "metadata": {
        "id": "mRu4ye376pvz"
      },
      "source": [
        "## Saving model"
      ]
    },
    {
      "cell_type": "code",
      "metadata": {
        "id": "2UKvFzTh6suK"
      },
      "source": [
        "mym.save('mym_01')"
      ],
      "execution_count": null,
      "outputs": []
    },
    {
      "cell_type": "code",
      "metadata": {
        "id": "9uwrASKM7MU4"
      },
      "source": [
        "mym.save('hdf_mym.h5')"
      ],
      "execution_count": null,
      "outputs": []
    },
    {
      "cell_type": "markdown",
      "metadata": {
        "id": "tIEPfEBd_juW"
      },
      "source": [
        "## Loading in a saved model"
      ]
    },
    {
      "cell_type": "code",
      "metadata": {
        "id": "UAPjx2bj_oPY"
      },
      "source": [
        "loaded_mym = tf.keras.models.load_model('/content/hdf_mym.h5')\n",
        "loaded_mym.summary()"
      ],
      "execution_count": null,
      "outputs": []
    },
    {
      "cell_type": "code",
      "metadata": {
        "id": "rcc6Jad6IRCA"
      },
      "source": [
        "preds = loaded_mym.predict(X_test).squeeze()\n",
        "plot_prediced_vs_expexted(X_test, y_test, preds)"
      ],
      "execution_count": null,
      "outputs": []
    },
    {
      "cell_type": "code",
      "metadata": {
        "id": "0I2diRZKI0-5"
      },
      "source": [
        "mae = tf.keras.metrics.mae(y_test, preds)\n",
        "mse = tf.keras.metrics.mse(y_test, preds)\n",
        "mae, mse"
      ],
      "execution_count": null,
      "outputs": []
    },
    {
      "cell_type": "code",
      "metadata": {
        "id": "GV_21WUbMOWb"
      },
      "source": [
        "files.view('/content/hdf_mym.h5')"
      ],
      "execution_count": null,
      "outputs": []
    },
    {
      "cell_type": "code",
      "metadata": {
        "id": "Ujnu8xJqMTYN"
      },
      "source": [
        "# copy to Drive\n",
        "!cp /content/hdf_mym.h5 /content/drive/MyDrive/ColabNotebooks/TF/models"
      ],
      "execution_count": null,
      "outputs": []
    }
  ]
}