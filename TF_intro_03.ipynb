{
  "nbformat": 4,
  "nbformat_minor": 0,
  "metadata": {
    "colab": {
      "name": "TF_intro_03.ipynb",
      "private_outputs": true,
      "provenance": [],
      "collapsed_sections": [],
      "mount_file_id": "1ynUWZw73O89JMW46MpVlYaZFhkrHMUQc",
      "authorship_tag": "ABX9TyNvUp/HwWtmxRvd+VQvr1TV",
      "include_colab_link": true
    },
    "kernelspec": {
      "name": "python3",
      "display_name": "Python 3"
    },
    "language_info": {
      "name": "python"
    }
  },
  "cells": [
    {
      "cell_type": "markdown",
      "metadata": {
        "id": "view-in-github",
        "colab_type": "text"
      },
      "source": [
        "<a href=\"https://colab.research.google.com/github/Flantropy/notebooks/blob/main/TF_intro_03.ipynb\" target=\"_parent\"><img src=\"https://colab.research.google.com/assets/colab-badge.svg\" alt=\"Open In Colab\"/></a>"
      ]
    },
    {
      "cell_type": "code",
      "metadata": {
        "id": "W37kKVsyQGgY"
      },
      "source": [
        "import tensorflow as tf\n",
        "import numpy as np\n",
        "import pandas as pd\n",
        "import matplotlib.pyplot as plt\n",
        "from sklearn.model_selection import train_test_split\n",
        "from sklearn.compose import make_column_transformer\n",
        "from sklearn.preprocessing import MinMaxScaler, OneHotEncoder\n",
        "from tensorflow.keras.utils import plot_model\n",
        "from google.colab import files\n",
        "from collections import namedtuple\n",
        "from operator import attrgetter"
      ],
      "execution_count": null,
      "outputs": []
    },
    {
      "cell_type": "markdown",
      "metadata": {
        "id": "4aqO1qniRskL"
      },
      "source": [
        "# A Larger Example"
      ]
    },
    {
      "cell_type": "code",
      "metadata": {
        "id": "EhvClRq4Ruj8"
      },
      "source": [
        "# Read in dataset from GitHub (csv)\n",
        "df = pd.read_csv('https://raw.githubusercontent.com/stedy/Machine-Learning-with-R-datasets/master/insurance.csv')"
      ],
      "execution_count": null,
      "outputs": []
    },
    {
      "cell_type": "code",
      "metadata": {
        "id": "vW4Lba7kU92y"
      },
      "source": [
        "df"
      ],
      "execution_count": null,
      "outputs": []
    },
    {
      "cell_type": "code",
      "metadata": {
        "id": "U0S-IvynU-wC"
      },
      "source": [
        "df = pd.get_dummies(df)\n",
        "df.head()"
      ],
      "execution_count": null,
      "outputs": []
    },
    {
      "cell_type": "code",
      "metadata": {
        "id": "gXtaw2_SX2_F"
      },
      "source": [
        "X = df.drop('charges', axis=1)\n",
        "y = df['charges']"
      ],
      "execution_count": null,
      "outputs": []
    },
    {
      "cell_type": "code",
      "metadata": {
        "id": "pCnJP4rVZhci"
      },
      "source": [
        "X_train, X_test, y_train, y_test = train_test_split(X, y, test_size=.2, random_state=42)"
      ],
      "execution_count": null,
      "outputs": []
    },
    {
      "cell_type": "code",
      "metadata": {
        "id": "JwcBBvMgbSyy"
      },
      "source": [
        "len(X), len(X_train), len(X_test)"
      ],
      "execution_count": null,
      "outputs": []
    },
    {
      "cell_type": "code",
      "metadata": {
        "id": "b081wXGGo9R6"
      },
      "source": [
        "len(y), len(y_train), len(y_test)"
      ],
      "execution_count": null,
      "outputs": []
    },
    {
      "cell_type": "code",
      "metadata": {
        "id": "JiEM8k3_bkax"
      },
      "source": [
        "tf.random.set_seed(42)\n",
        "layers = [\n",
        "    # tf.keras.layers.InputLayer(input_shape=[11]),\n",
        "    tf.keras.layers.Dense(20, activation='relu'),\n",
        "    tf.keras.layers.Dense(30, activation='relu'),\n",
        "    tf.keras.layers.Dense(10, activation='relu'),\n",
        "    tf.keras.layers.Dense(1)\n",
        "]\n",
        "\n",
        "anna = tf.keras.Sequential(layers)\n",
        "anna.compile(\n",
        "    optimizer=tf.keras.optimizers.Adam(learning_rate=0.01),\n",
        "    loss=tf.keras.losses.mae,\n",
        "    metrics=['mae'],\n",
        ")\n",
        "\n",
        "history = anna.fit(X_train, y_train, epochs=200, verbose=0)"
      ],
      "execution_count": null,
      "outputs": []
    },
    {
      "cell_type": "markdown",
      "metadata": {
        "id": "friQ42UMnDsO"
      },
      "source": [
        "## Evaluation"
      ]
    },
    {
      "cell_type": "code",
      "metadata": {
        "id": "OUeb2CxzybDn"
      },
      "source": [
        "Record = namedtuple('Record', ['index', 'true', 'pred'])"
      ],
      "execution_count": null,
      "outputs": []
    },
    {
      "cell_type": "code",
      "metadata": {
        "id": "T3h2OoN_PcT9"
      },
      "source": [
        "def plot_prediced_vs_expexted(d: Record):\n",
        "    plt.figure(figsize=(10, 7))\n",
        "    plt.scatter(range(len(d)), [r.true for r in d], c='g', label='Testing data')\n",
        "    plt.scatter(range(len(d)), [r.pred for r in d], c='r', label='Predictions')\n",
        "    plt.legend();"
      ],
      "execution_count": null,
      "outputs": []
    },
    {
      "cell_type": "code",
      "metadata": {
        "id": "NOJlFgtlnFdw"
      },
      "source": [
        "anna.evaluate(X_test, y_test)"
      ],
      "execution_count": null,
      "outputs": []
    },
    {
      "cell_type": "code",
      "metadata": {
        "id": "jm2a9TLarV1j"
      },
      "source": [
        "preds = anna.predict(X_test).squeeze()\n",
        "data = [Record(x, y, z) for x, y, z in zip(y_test.index, y_test.values, preds)]\n",
        "sorted_data = sorted(data, key=attrgetter('true'))\n",
        "plot_prediced_vs_expexted(sorted_data)"
      ],
      "execution_count": null,
      "outputs": []
    },
    {
      "cell_type": "code",
      "metadata": {
        "id": "4JvwpfbMboM-"
      },
      "source": [
        "pd.DataFrame(history.history).plot()\n",
        "plt.ylabel('loss')\n",
        "plt.xlabel('epochs')"
      ],
      "execution_count": null,
      "outputs": []
    },
    {
      "cell_type": "markdown",
      "metadata": {
        "id": "Rp_dkItibq_k"
      },
      "source": [
        "# Preprocessing data (normalization and standardization)"
      ]
    },
    {
      "cell_type": "code",
      "metadata": {
        "id": "MjgDE_09cGCj"
      },
      "source": [
        "X['age'].plot(kind='hist')"
      ],
      "execution_count": null,
      "outputs": []
    },
    {
      "cell_type": "code",
      "metadata": {
        "id": "ywTUmaQGdXzv"
      },
      "source": [
        "df2 = pd.read_csv('https://raw.githubusercontent.com/stedy/Machine-Learning-with-R-datasets/master/insurance.csv')"
      ],
      "execution_count": null,
      "outputs": []
    },
    {
      "cell_type": "code",
      "metadata": {
        "id": "2EbTq6gViysw"
      },
      "source": [
        "df2"
      ],
      "execution_count": null,
      "outputs": []
    },
    {
      "cell_type": "code",
      "metadata": {
        "id": "4_ZOU9iXizQM"
      },
      "source": [
        "# Create a transformer for our df\n",
        "ct = make_column_transformer(\n",
        "    (MinMaxScaler(), ['age', 'bmi', 'children']),\n",
        "    (OneHotEncoder(handle_unknown='ignore'), ['sex', 'smoker', 'region'])\n",
        ")"
      ],
      "execution_count": null,
      "outputs": []
    },
    {
      "cell_type": "code",
      "metadata": {
        "id": "IDJ3ZXwKlctq"
      },
      "source": [
        "X = df2.drop('charges', axis=1)\n",
        "y = df2['charges']\n",
        "X_train, X_test, y_train, y_test = train_test_split(X, y, test_size=.2, random_state=42)\n",
        "\n",
        "# Fit the transformer\n",
        "ct.fit(X_train)\n",
        "\n",
        "# Normalizing\n",
        "X_train_normal = ct.transform(X_train)\n",
        "X_test_normal = ct.transform(X_test)"
      ],
      "execution_count": null,
      "outputs": []
    },
    {
      "cell_type": "code",
      "metadata": {
        "id": "tQ1xFsTRnDFK"
      },
      "source": [
        "X_train.loc[0]"
      ],
      "execution_count": null,
      "outputs": []
    },
    {
      "cell_type": "code",
      "metadata": {
        "id": "67Hce87VnPmb"
      },
      "source": [
        "X_train_normal[0]"
      ],
      "execution_count": null,
      "outputs": []
    },
    {
      "cell_type": "code",
      "metadata": {
        "id": "jN1TH0IKnST2"
      },
      "source": [
        "X_train.shape, X_train_normal.shape"
      ],
      "execution_count": null,
      "outputs": []
    },
    {
      "cell_type": "code",
      "metadata": {
        "id": "8ucqUXoZoSJp"
      },
      "source": [
        "tf.random.set_seed(42)\n",
        "layers = [\n",
        "    tf.keras.layers.InputLayer(input_shape=[11]),\n",
        "    tf.keras.layers.Dense(20, activation='relu'),\n",
        "    tf.keras.layers.Dense(30, activation='relu'),\n",
        "    tf.keras.layers.Dense(10, activation='relu'),\n",
        "    tf.keras.layers.Dense(1)\n",
        "]\n",
        "\n",
        "anna = tf.keras.Sequential(layers)\n",
        "anna.compile(\n",
        "    optimizer=tf.keras.optimizers.Adam(learning_rate=0.01),\n",
        "    loss=tf.keras.losses.mae,\n",
        "    metrics=['mae'],\n",
        ")\n",
        "\n",
        "history = anna.fit(X_train_normal, y_train, epochs=100, verbose=0)"
      ],
      "execution_count": null,
      "outputs": []
    },
    {
      "cell_type": "code",
      "metadata": {
        "id": "vnGGQAOqpr9w"
      },
      "source": [
        "anna.evaluate(X_test_normal, y_test)"
      ],
      "execution_count": null,
      "outputs": []
    },
    {
      "cell_type": "code",
      "metadata": {
        "id": "eVGITEWmqTp3"
      },
      "source": [
        "pd.DataFrame(history.history).plot()"
      ],
      "execution_count": null,
      "outputs": []
    },
    {
      "cell_type": "code",
      "metadata": {
        "id": "xl641HTNqWsw"
      },
      "source": [
        ""
      ],
      "execution_count": null,
      "outputs": []
    }
  ]
}