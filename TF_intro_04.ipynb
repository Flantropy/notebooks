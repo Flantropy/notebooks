{
  "nbformat": 4,
  "nbformat_minor": 0,
  "metadata": {
    "colab": {
      "name": "TF_intro_04.ipynb",
      "private_outputs": true,
      "provenance": [],
      "collapsed_sections": [],
      "toc_visible": true,
      "authorship_tag": "ABX9TyNqnvcpgDtgXnfy0+HEsLe5",
      "include_colab_link": true
    },
    "kernelspec": {
      "name": "python3",
      "display_name": "Python 3"
    },
    "language_info": {
      "name": "python"
    }
  },
  "cells": [
    {
      "cell_type": "markdown",
      "metadata": {
        "id": "view-in-github",
        "colab_type": "text"
      },
      "source": [
        "<a href=\"https://colab.research.google.com/github/Flantropy/notebooks/blob/main/TF_intro_04.ipynb\" target=\"_parent\"><img src=\"https://colab.research.google.com/assets/colab-badge.svg\" alt=\"Open In Colab\"/></a>"
      ]
    },
    {
      "cell_type": "markdown",
      "metadata": {
        "id": "nJK9k6so7srS"
      },
      "source": [
        "# Intro to classification with nearal nets\n",
        "\n",
        "\n",
        "*   Binary\n",
        "*   Multiclass\n",
        "*   Multilabel\n",
        "\n"
      ]
    },
    {
      "cell_type": "code",
      "metadata": {
        "id": "W37kKVsyQGgY"
      },
      "source": [
        "import tensorflow as tf\n",
        "import numpy as np\n",
        "import pandas as pd\n",
        "import matplotlib.pyplot as plt\n",
        "from sklearn.model_selection import train_test_split\n",
        "from sklearn.compose import make_column_transformer\n",
        "from sklearn.preprocessing import MinMaxScaler, OneHotEncoder\n",
        "from sklearn.datasets import make_circles\n",
        "from tensorflow.keras.utils import plot_model\n",
        "from google.colab import files\n",
        "from collections import namedtuple\n",
        "from operator import attrgetter"
      ],
      "execution_count": null,
      "outputs": []
    },
    {
      "cell_type": "markdown",
      "metadata": {
        "id": "I6tStLTSNuzl"
      },
      "source": [
        "## Creating data to view and fit"
      ]
    },
    {
      "cell_type": "code",
      "metadata": {
        "id": "y2v1Mb5N8mij"
      },
      "source": [
        "X, y = make_circles(1000, noise=0.032, random_state=42)\n",
        "X_train, X_test, y_train, y_test = train_test_split(X, y, test_size=.2)"
      ],
      "execution_count": null,
      "outputs": []
    },
    {
      "cell_type": "code",
      "metadata": {
        "id": "ChixZLO898Or"
      },
      "source": [
        "circles = pd.DataFrame({'X0': X[:, 0], 'X1': X[:, 1], 'label': y})\n",
        "circles"
      ],
      "execution_count": null,
      "outputs": []
    },
    {
      "cell_type": "code",
      "metadata": {
        "id": "4M4Airke_fcf"
      },
      "source": [
        "plt.scatter(X[:, 0], X[:, 1], c=y, cmap=plt.cm.RdYlBu)"
      ],
      "execution_count": null,
      "outputs": []
    },
    {
      "cell_type": "markdown",
      "metadata": {
        "id": "0xUadsP2p_fB"
      },
      "source": [
        "## Model"
      ]
    },
    {
      "cell_type": "code",
      "metadata": {
        "id": "RuLNmB3AAIBR"
      },
      "source": [
        "tf.random.set_seed(42)\n",
        "\n",
        "layers = [\n",
        "    tf.keras.layers.Dense(4, activation='relu'),\n",
        "    tf.keras.layers.Dense(4, activation='relu'),\n",
        "    tf.keras.layers.Dense(1, activation='sigmoid')\n",
        "]\n",
        "bro = tf.keras.Sequential(layers)\n",
        "bro.compile(\n",
        "    optimizer=tf.keras.optimizers.Adam(learning_rate=0.003),\n",
        "    loss=tf.keras.losses.BinaryCrossentropy(),\n",
        "    metrics=['accuracy']\n",
        ")\n",
        "history = bro.fit(X_train, y_train, epochs=100, verbose=0)"
      ],
      "execution_count": null,
      "outputs": []
    },
    {
      "cell_type": "code",
      "metadata": {
        "id": "rKRlH0PSNmAh"
      },
      "source": [
        "bro.evaluate(X_test, y_test)"
      ],
      "execution_count": null,
      "outputs": []
    },
    {
      "cell_type": "code",
      "metadata": {
        "id": "vPEgdwGlVaEY"
      },
      "source": [
        "pd.DataFrame(history.history).plot()"
      ],
      "execution_count": null,
      "outputs": []
    },
    {
      "cell_type": "code",
      "metadata": {
        "id": "sH_o-j8YXgBk"
      },
      "source": [
        "circles['label'].value_counts()"
      ],
      "execution_count": null,
      "outputs": []
    },
    {
      "cell_type": "code",
      "metadata": {
        "id": "UdfmnuwhYG3s"
      },
      "source": [
        "def plot_decision_boundary(model, X, y):\n",
        "    x_min, x_max = X[:, 0].min() - 0.1, X[:, 0].max() + 0.1\n",
        "    y_min, y_max = X[:, 1].min() - 0.1, X[:, 1].max() + 0.1\n",
        "    xx, yy = np.meshgrid(np.linspace(x_min, x_max, 100),\n",
        "                        np.linspace(y_min, y_max, 100))\n",
        "    \n",
        "    # Create X value (we're going to make predictions on these)\n",
        "    x_in = np.c_[xx.ravel(), yy.ravel()] # stack 2D arrays together\n",
        "\n",
        "    # Make predictions\n",
        "    y_pred = model.predict(x_in)\n",
        "\n",
        "    # Check for multi-class\n",
        "    if len(y_pred[0]) > 1:\n",
        "        print(\"doing multiclass classification\")\n",
        "        # We have to reshape our prediction to get them ready for plotting\n",
        "        y_pred = np.argmax(y_pred, axis=1).reshape(xx.shape)\n",
        "    else:\n",
        "        print(\"doing binary classification\")\n",
        "        y_pred = np.round(y_pred).reshape(xx.shape)\n",
        "    \n",
        "    # Plot the decision boundary\n",
        "    plt.contourf(xx, yy, y_pred, cmap=plt.cm.coolwarm, alpha=0.85)\n",
        "    plt.scatter(X[:, 0], X[:, 1], c=y, s=40, cmap=plt.cm.RdYlBu)\n",
        "    plt.xlim(xx.min(), xx.max())\n",
        "    plt.ylim(yy.min(), yy.max())"
      ],
      "execution_count": null,
      "outputs": []
    },
    {
      "cell_type": "code",
      "metadata": {
        "id": "gA0aojqXig_V"
      },
      "source": [
        "plot_decision_boundary(bro, X_test, y_test)"
      ],
      "execution_count": null,
      "outputs": []
    },
    {
      "cell_type": "markdown",
      "metadata": {
        "id": "NHT4-wDAp1ub"
      },
      "source": [
        "# Non-linear functions"
      ]
    },
    {
      "cell_type": "code",
      "metadata": {
        "id": "WXSk7P01qNX6"
      },
      "source": [
        "A = tf.cast(tf.range(-10, 10), tf.float32)\n",
        "A"
      ],
      "execution_count": null,
      "outputs": []
    },
    {
      "cell_type": "code",
      "metadata": {
        "id": "MjsBYlZCqW9z"
      },
      "source": [
        "plt.plot(A)"
      ],
      "execution_count": null,
      "outputs": []
    },
    {
      "cell_type": "code",
      "metadata": {
        "id": "St4GofqQqvId"
      },
      "source": [
        "def sigmoid(x):\n",
        "    return 1 / (1 + tf.exp(-x))\n",
        "\n",
        "def relu(x):\n",
        "    return tf.maximum(0, x)"
      ],
      "execution_count": null,
      "outputs": []
    },
    {
      "cell_type": "code",
      "metadata": {
        "id": "6M1LBcNhrudo"
      },
      "source": [
        "sigmoid(A)"
      ],
      "execution_count": null,
      "outputs": []
    },
    {
      "cell_type": "code",
      "metadata": {
        "id": "nAvHydOirwQy"
      },
      "source": [
        "plt.plot(sigmoid(A))"
      ],
      "execution_count": null,
      "outputs": []
    },
    {
      "cell_type": "code",
      "metadata": {
        "id": "Ssw51adcrzy0"
      },
      "source": [
        "plt.plot(relu(A))"
      ],
      "execution_count": null,
      "outputs": []
    },
    {
      "cell_type": "code",
      "metadata": {
        "id": "V0mASpjIs55r"
      },
      "source": [
        ""
      ],
      "execution_count": null,
      "outputs": []
    }
  ]
}