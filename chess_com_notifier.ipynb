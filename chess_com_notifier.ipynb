{
  "nbformat": 4,
  "nbformat_minor": 0,
  "metadata": {
    "colab": {
      "name": "chess-com-notifier.ipynb",
      "private_outputs": true,
      "provenance": [],
      "collapsed_sections": [],
      "mount_file_id": "1Q9bM8mYAPWQK5yjed3gC4wsOv_rQ86Fo",
      "authorship_tag": "ABX9TyPcC6KYwgjX+gVC3MRIrDr9",
      "include_colab_link": true
    },
    "kernelspec": {
      "name": "python3",
      "display_name": "Python 3"
    },
    "language_info": {
      "name": "python"
    }
  },
  "cells": [
    {
      "cell_type": "markdown",
      "metadata": {
        "id": "view-in-github",
        "colab_type": "text"
      },
      "source": [
        "<a href=\"https://colab.research.google.com/github/Flantropy/notebooks/blob/main/chess_com_notifier.ipynb\" target=\"_parent\"><img src=\"https://colab.research.google.com/assets/colab-badge.svg\" alt=\"Open In Colab\"/></a>"
      ]
    },
    {
      "cell_type": "markdown",
      "metadata": {
        "id": "p-5zas44rh-A"
      },
      "source": [
        "Visit this [link](https://accounts.google.com/DisplayUnlockCaptcha) to fix exeption"
      ]
    },
    {
      "cell_type": "code",
      "metadata": {
        "id": "vXfsUK3XogVy"
      },
      "source": [
        "!pip install chess.com"
      ],
      "execution_count": null,
      "outputs": []
    },
    {
      "cell_type": "code",
      "metadata": {
        "id": "LJzr270YtAUL"
      },
      "source": [
        "import smtplib\n",
        "from chessdotcom import is_player_online\n",
        "from time import sleep\n",
        "import nest_asyncio\n",
        "nest_asyncio.apply()"
      ],
      "execution_count": null,
      "outputs": []
    },
    {
      "cell_type": "code",
      "metadata": {
        "id": "zWp53TuMI6Z6"
      },
      "source": [
        "USERNAME = \"hikaru-nakamura\"\n",
        "SENDER_EMAIL = \"example@gmail.com\"\n",
        "RECIVER_EMAIL = \"example@gmail.com\"\n",
        "SENDER_PWD = \"your gmail password here\""
      ],
      "execution_count": null,
      "outputs": []
    },
    {
      "cell_type": "code",
      "metadata": {
        "id": "_XmX3V_mPeAU"
      },
      "source": [
        "def send_email(online_user: str):\n",
        "\tmsg = f\"{online_user} is now online!\"\n",
        "\tserver = smtplib.SMTP('imap.gmail.com', 587)\n",
        "\tserver.starttls()\n",
        "\tserver.login(SENDER_EMAIL, SENDER_PWD)\n",
        "\tserver.sendmail(SENDER_EMAIL, RECIVER_EMAIL, msg)"
      ],
      "execution_count": null,
      "outputs": []
    },
    {
      "cell_type": "code",
      "metadata": {
        "id": "qezTQXJ3B_0M"
      },
      "source": [
        "running = True\n",
        "while running:\n",
        "    response = is_player_online(USERNAME).json\n",
        "    if response[\"online\"]:\n",
        "        send_email(online_user=USERNAME)\n",
        "        running = False\n",
        "    else:\n",
        "        sleep(5)"
      ],
      "execution_count": null,
      "outputs": []
    }
  ]
}