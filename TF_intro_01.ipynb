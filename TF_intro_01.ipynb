{
  "nbformat": 4,
  "nbformat_minor": 0,
  "metadata": {
    "colab": {
      "name": "TF_intro_01.ipynb",
      "private_outputs": true,
      "provenance": [],
      "collapsed_sections": [],
      "authorship_tag": "ABX9TyPZXnDcHN/OAhwd4yku3keM",
      "include_colab_link": true
    },
    "kernelspec": {
      "name": "python3",
      "display_name": "Python 3"
    },
    "language_info": {
      "name": "python"
    }
  },
  "cells": [
    {
      "cell_type": "markdown",
      "metadata": {
        "id": "view-in-github",
        "colab_type": "text"
      },
      "source": [
        "<a href=\"https://colab.research.google.com/github/Flantropy/notebooks/blob/main/TF_intro_01.ipynb\" target=\"_parent\"><img src=\"https://colab.research.google.com/assets/colab-badge.svg\" alt=\"Open In Colab\"/></a>"
      ]
    },
    {
      "cell_type": "code",
      "metadata": {
        "id": "h84hj5NTC3Ep"
      },
      "source": [
        "import tensorflow as tf\n",
        "import tensorflow_probability as tfp\n",
        "import numpy as np"
      ],
      "execution_count": null,
      "outputs": []
    },
    {
      "cell_type": "markdown",
      "metadata": {
        "id": "MFO_jhh8E5BU"
      },
      "source": [
        "## Creating basic tensorts"
      ]
    },
    {
      "cell_type": "code",
      "metadata": {
        "id": "OMnLxU4Fp9rG"
      },
      "source": [
        "scalar = tf.constant(7)\n",
        "scalar"
      ],
      "execution_count": null,
      "outputs": []
    },
    {
      "cell_type": "code",
      "metadata": {
        "id": "evKOGvjvrymw"
      },
      "source": [
        "vector = tf.constant([10, 6])\n",
        "vector"
      ],
      "execution_count": null,
      "outputs": []
    },
    {
      "cell_type": "code",
      "metadata": {
        "id": "7RtRtgdds0LH"
      },
      "source": [
        "matrix = tf.constant([[10, 7],\n",
        "                      [7, 10]])"
      ],
      "execution_count": null,
      "outputs": []
    },
    {
      "cell_type": "code",
      "metadata": {
        "id": "mxigdpHUtDzJ"
      },
      "source": [
        "float_matrix = tf.constant([[10., 9.],\n",
        "                            [5., 4.],\n",
        "                            [11., 12.]],\n",
        "                           dtype=tf.float16)"
      ],
      "execution_count": null,
      "outputs": []
    },
    {
      "cell_type": "code",
      "metadata": {
        "id": "liyI-Q1qufbH"
      },
      "source": [
        "tensor = tf.constant([\n",
        "                      [\n",
        "                       [1, 1, 1],\n",
        "                       [2, 2, 2]\n",
        "                      ],\n",
        "                      [\n",
        "                       [3, 3, 3],\n",
        "                       [4, 4, 4]\n",
        "                      ],\n",
        "                      [\n",
        "                       [5, 5, 5],\n",
        "                       [6, 6, 6]\n",
        "                      ]\n",
        "])"
      ],
      "execution_count": null,
      "outputs": []
    },
    {
      "cell_type": "code",
      "metadata": {
        "id": "9xW_wirwwBDo"
      },
      "source": [
        "tensor_var = tf.Variable([10, 7])\n",
        "tensor_var[0].assign(7)"
      ],
      "execution_count": null,
      "outputs": []
    },
    {
      "cell_type": "markdown",
      "metadata": {
        "id": "s_Y0PLwqFI3a"
      },
      "source": [
        "## Creating random tensors and generating them in a numpy like way"
      ]
    },
    {
      "cell_type": "code",
      "metadata": {
        "id": "2cn_KfpgzP17"
      },
      "source": [
        "random_1 = tf.random.Generator.from_seed(42)\n",
        "random_1 = random_1.normal(shape=(3, 2))\n",
        "random_2 = tf.random.Generator.from_seed(42)\n",
        "random_2 = random_2.normal(shape=(3, 2))\n",
        "random_1 == random_2"
      ],
      "execution_count": null,
      "outputs": []
    },
    {
      "cell_type": "code",
      "metadata": {
        "id": "u4AakEpVcT6Z"
      },
      "source": [
        "not_shuffled = tf.constant([[10, 7], [4, 6], [5, 5]])\n",
        "tf.random.set_seed(1234)\n",
        "tf.random.shuffle(not_shuffled, seed=1)"
      ],
      "execution_count": null,
      "outputs": []
    },
    {
      "cell_type": "code",
      "metadata": {
        "id": "igtG_X4NTzK5"
      },
      "source": [
        "tf.ones([10, 7])\n",
        "tf.zeros([4, 6])"
      ],
      "execution_count": null,
      "outputs": []
    },
    {
      "cell_type": "code",
      "metadata": {
        "id": "2M64KN_ohrc-"
      },
      "source": [
        "numpy_A = np.arange(1, 25, dtype=np.int32)"
      ],
      "execution_count": null,
      "outputs": []
    },
    {
      "cell_type": "code",
      "metadata": {
        "id": "HCYgujf0iciK"
      },
      "source": [
        "A = tf.constant(numpy_A, shape=(2, 3, 4))"
      ],
      "execution_count": null,
      "outputs": []
    },
    {
      "cell_type": "code",
      "metadata": {
        "id": "Q8wIDjkxjWpT"
      },
      "source": [
        "rank_4_tensor = tf.zeros(shape=[2, 3, 4, 5])"
      ],
      "execution_count": null,
      "outputs": []
    },
    {
      "cell_type": "code",
      "metadata": {
        "id": "9s3L7z9v8RAG"
      },
      "source": [
        "def tensor_info(tensor: tf.Tensor):\n",
        "    print(f'Data type of everey element: {tensor.dtype}')\n",
        "    print(f'Number of dimentions (rank): {tensor.ndim}')\n",
        "    print(f'Shape of a tensor: {tensor.shape}')\n",
        "    print(f'Elements along the 0 axis: {tensor.shape[0]}')\n",
        "    print(f'Elements along the last axis: {tensor.shape[-1]}')\n",
        "    print(f'Total number of elements: {tf.size(tensor).numpy()}')"
      ],
      "execution_count": null,
      "outputs": []
    },
    {
      "cell_type": "markdown",
      "metadata": {
        "id": "yYe5Rb0uF0Go"
      },
      "source": [
        "## Slicing a tensor\n"
      ]
    },
    {
      "cell_type": "code",
      "metadata": {
        "id": "sORqPiFsC5nu"
      },
      "source": [
        "tf.random.set_seed(34)\n",
        "rows, columns = 4, 3\n",
        "random_r2t = tf.random.Generator.from_seed(42).normal(shape=(rows, columns))\n",
        "random_r2t"
      ],
      "execution_count": null,
      "outputs": []
    },
    {
      "cell_type": "code",
      "metadata": {
        "id": "iM2GZnUDDcOg"
      },
      "source": [
        "# All last elements of axis 0\n",
        "arr = random_r2t[:, -1].numpy()\n",
        "assert len(arr) == rows\n",
        "arr"
      ],
      "execution_count": null,
      "outputs": []
    },
    {
      "cell_type": "code",
      "metadata": {
        "id": "Vvc3ezgkIrEA"
      },
      "source": [
        "# All elements of first row\n",
        "arr2 = random_r2t[:1, :].numpy()\n",
        "assert len(arr2.flat == columns)\n",
        "arr2"
      ],
      "execution_count": null,
      "outputs": []
    },
    {
      "cell_type": "code",
      "metadata": {
        "id": "cVlX2r0fLe7u"
      },
      "source": [
        "a = np.array([[1, 2, 3], [4, 5, 6]])\n",
        "a.flatten()"
      ],
      "execution_count": null,
      "outputs": []
    },
    {
      "cell_type": "markdown",
      "metadata": {
        "id": "PuYeTyHyDsI3"
      },
      "source": [
        "## Add in extra dimention to a `tensor`\n",
        "\n",
        "---\n",
        "\n"
      ]
    },
    {
      "cell_type": "code",
      "metadata": {
        "id": "LRqhGO9bEx3O"
      },
      "source": [
        "r3t = random_r2t[..., tf.newaxis]"
      ],
      "execution_count": null,
      "outputs": []
    },
    {
      "cell_type": "code",
      "metadata": {
        "id": "fxDMYZRrNdCh"
      },
      "source": [
        "random_r2t"
      ],
      "execution_count": null,
      "outputs": []
    },
    {
      "cell_type": "code",
      "metadata": {
        "id": "dYvk7zYWNxC1"
      },
      "source": [
        "r3t"
      ],
      "execution_count": null,
      "outputs": []
    },
    {
      "cell_type": "code",
      "metadata": {
        "id": "-plNpc5MNyVC"
      },
      "source": [
        "rank_2_tensor = tf.constant([[10, 7], [3, 4]])"
      ],
      "execution_count": null,
      "outputs": []
    },
    {
      "cell_type": "code",
      "metadata": {
        "id": "T54iyU16IabU"
      },
      "source": [
        "rank_2_tensor"
      ],
      "execution_count": null,
      "outputs": []
    },
    {
      "cell_type": "code",
      "metadata": {
        "id": "OSdvZS7iIcx4"
      },
      "source": [
        "rank_3_tensor = rank_2_tensor[..., tf.newaxis]\n",
        "rank_3_tensor"
      ],
      "execution_count": null,
      "outputs": []
    },
    {
      "cell_type": "code",
      "metadata": {
        "id": "61tt9kkVI0Vg"
      },
      "source": [
        ""
      ],
      "execution_count": null,
      "outputs": []
    },
    {
      "cell_type": "markdown",
      "metadata": {
        "id": "wUAEqhKXfgMk"
      },
      "source": [
        "## Manipulating tensors (tensor operation)\n"
      ]
    },
    {
      "cell_type": "markdown",
      "metadata": {
        "id": "y_x7F7kIfwF2"
      },
      "source": [
        "### Basic operations\n",
        "\n",
        "*   addition\n",
        "*   substration\n",
        "*   multiplication\n",
        "*   division\n",
        "\n",
        "\n",
        "\n"
      ]
    },
    {
      "cell_type": "code",
      "metadata": {
        "id": "11mAypGmgAng"
      },
      "source": [
        "tensor = tf.constant([[10, 7], [3, 4]])"
      ],
      "execution_count": null,
      "outputs": []
    },
    {
      "cell_type": "code",
      "metadata": {
        "id": "ppgWKAfFgiYA"
      },
      "source": [
        "# Original tensor is unchanged\n",
        "tensor + 10\n",
        "tensor * 10\n",
        "tensor - 10\n",
        "tensor / 10"
      ],
      "execution_count": null,
      "outputs": []
    },
    {
      "cell_type": "code",
      "metadata": {
        "id": "qjqArZpChTtP"
      },
      "source": [
        "# Alternative syntax (better perfomance)\n",
        "tf.multiply(tensor, 10)\n",
        "tf.add(tensor, 10)\n",
        "tf.subtract(tensor, 10)\n",
        "tf.divide(tensor, 10)"
      ],
      "execution_count": null,
      "outputs": []
    },
    {
      "cell_type": "markdown",
      "metadata": {
        "id": "ng4_ODy1iyE6"
      },
      "source": [
        "### Matrix multiplication"
      ]
    },
    {
      "cell_type": "code",
      "metadata": {
        "id": "yLRRk-BIkVgR"
      },
      "source": [
        "# tf.matmul(X, Y)\n",
        "# X @ Y"
      ],
      "execution_count": null,
      "outputs": []
    },
    {
      "cell_type": "code",
      "metadata": {
        "id": "b_fa2isxkfY0"
      },
      "source": [
        "X = tf.constant([[1, 2],\n",
        "                 [3, 4],\n",
        "                 [5, 6]])"
      ],
      "execution_count": null,
      "outputs": []
    },
    {
      "cell_type": "code",
      "metadata": {
        "id": "arxJu1fKnGbA"
      },
      "source": [
        "Y = tf.constant([[7, 8],\n",
        "                 [9, 10],\n",
        "                 [11, 12]])"
      ],
      "execution_count": null,
      "outputs": []
    },
    {
      "cell_type": "code",
      "metadata": {
        "id": "hjb53br2nPCy"
      },
      "source": [
        "tf.reshape(X, shape=[2, 3])"
      ],
      "execution_count": null,
      "outputs": []
    },
    {
      "cell_type": "code",
      "metadata": {
        "id": "pLzTzTaouvQj"
      },
      "source": [
        "tf.transpose(X)"
      ],
      "execution_count": null,
      "outputs": []
    },
    {
      "cell_type": "code",
      "metadata": {
        "id": "yZrZLlJ8vKoI"
      },
      "source": [
        "tf.matmul(X, tf.reshape(Y, shape=[2, 3]))"
      ],
      "execution_count": null,
      "outputs": []
    },
    {
      "cell_type": "code",
      "metadata": {
        "id": "YTckg0GpvQG3"
      },
      "source": [
        "tf.matmul(tf.reshape(X, shape=[2, 3]), Y)"
      ],
      "execution_count": null,
      "outputs": []
    },
    {
      "cell_type": "code",
      "metadata": {
        "id": "hKaB3u1gvYo8"
      },
      "source": [
        "X @ tf.transpose(Y)"
      ],
      "execution_count": null,
      "outputs": []
    },
    {
      "cell_type": "code",
      "metadata": {
        "id": "xFSA4LxGvc1g"
      },
      "source": [
        "tf.transpose(X) @ Y"
      ],
      "execution_count": null,
      "outputs": []
    },
    {
      "cell_type": "markdown",
      "metadata": {
        "id": "AmXNqKFJvlO4"
      },
      "source": [
        "## Changing the datatype of a tensor\n"
      ]
    },
    {
      "cell_type": "code",
      "metadata": {
        "id": "uDZbAJ-U3-l2"
      },
      "source": [
        "B = tf.constant([1.7, 3.6])\n",
        "B.dtype"
      ],
      "execution_count": null,
      "outputs": []
    },
    {
      "cell_type": "code",
      "metadata": {
        "id": "Y8ilItlBCSZd"
      },
      "source": [
        "C = tf.constant([1, 6])\n",
        "C.dtype"
      ],
      "execution_count": null,
      "outputs": []
    },
    {
      "cell_type": "code",
      "metadata": {
        "id": "DATLx4osEOPD"
      },
      "source": [
        "D = tf.cast(B, tf.float16)"
      ],
      "execution_count": null,
      "outputs": []
    },
    {
      "cell_type": "code",
      "metadata": {
        "id": "KQEUqjcoEmCK"
      },
      "source": [
        "D.dtype"
      ],
      "execution_count": null,
      "outputs": []
    },
    {
      "cell_type": "markdown",
      "metadata": {
        "id": "pGW2zWkHEn0b"
      },
      "source": [
        "## Aggregating tensors"
      ]
    },
    {
      "cell_type": "code",
      "metadata": {
        "id": "BseSAskiFjaC"
      },
      "source": [
        "T = tf.constant(np.random.randint(0, 100, size=50))\n",
        "T"
      ],
      "execution_count": null,
      "outputs": []
    },
    {
      "cell_type": "code",
      "metadata": {
        "id": "Z8qH00ShQwx9"
      },
      "source": [
        "info = dict(min=tf.reduce_min(T),\n",
        "            max=tf.reduce_max(T),\n",
        "            mean=tf.reduce_mean(T),\n",
        "            sum=tf.reduce_sum(T),\n",
        "            variance=tf.math.reduce_variance(tf.cast(T, tf.float16)),\n",
        "            std=tf.math.reduce_std(tf.cast(T, tf.float16)))\n",
        "info"
      ],
      "execution_count": null,
      "outputs": []
    },
    {
      "cell_type": "markdown",
      "metadata": {
        "id": "L7qc-XiZaWDS"
      },
      "source": [
        "## Find the positional max and min"
      ]
    },
    {
      "cell_type": "code",
      "metadata": {
        "id": "4-h40-rHZby8"
      },
      "source": [
        ""
      ],
      "execution_count": null,
      "outputs": []
    }
  ]
}