{
  "nbformat": 4,
  "nbformat_minor": 0,
  "metadata": {
    "colab": {
      "name": "TF_intro_05.ipynb",
      "private_outputs": true,
      "provenance": [],
      "collapsed_sections": [],
      "toc_visible": true,
      "mount_file_id": "1hEuAC-rTzaA9P--hJT1Vp1R82r5JcaY8",
      "authorship_tag": "ABX9TyP7Tuz28RRq9JvCXgeeFbaa",
      "include_colab_link": true
    },
    "kernelspec": {
      "name": "python3",
      "display_name": "Python 3"
    },
    "language_info": {
      "name": "python"
    },
    "accelerator": "GPU"
  },
  "cells": [
    {
      "cell_type": "markdown",
      "metadata": {
        "id": "view-in-github",
        "colab_type": "text"
      },
      "source": [
        "<a href=\"https://colab.research.google.com/github/Flantropy/notebooks/blob/main/TF_intro_05.ipynb\" target=\"_parent\"><img src=\"https://colab.research.google.com/assets/colab-badge.svg\" alt=\"Open In Colab\"/></a>"
      ]
    },
    {
      "cell_type": "markdown",
      "metadata": {
        "id": "jaD5hKpGCs2M"
      },
      "source": [
        "# Multiclass classification with **fashion-MNIST**"
      ]
    },
    {
      "cell_type": "code",
      "metadata": {
        "id": "W37kKVsyQGgY"
      },
      "source": [
        "#@title Imports { display-mode: \"code\" }\n",
        "import tensorflow as tf\n",
        "import numpy as np\n",
        "import pandas as pd\n",
        "import matplotlib.pyplot as plt\n",
        "import sklearn as sk\n",
        "import random\n",
        "from google.colab import files\n",
        "from collections import namedtuple\n",
        "from operator import attrgetter"
      ],
      "execution_count": null,
      "outputs": []
    },
    {
      "cell_type": "markdown",
      "metadata": {
        "id": "ExCXdac4VZYF"
      },
      "source": [
        "## Hands on data"
      ]
    },
    {
      "cell_type": "code",
      "metadata": {
        "id": "oR-ShTm1FDU8"
      },
      "source": [
        "(X_train, y_train), (X_test, y_test) = tf.keras.datasets.fashion_mnist.load_data()"
      ],
      "execution_count": null,
      "outputs": []
    },
    {
      "cell_type": "code",
      "metadata": {
        "id": "_8f8Yq6BuqV4"
      },
      "source": [
        "# normalizing data\n",
        "X_train_norm = X_train / 255.0\n",
        "X_test_norm = X_test / 255.0"
      ],
      "execution_count": null,
      "outputs": []
    },
    {
      "cell_type": "code",
      "metadata": {
        "id": "HVESTPc0hTJW"
      },
      "source": [
        "# one-hot encoding training and test labels\n",
        "y_train_one_hot = tf.one_hot(y_train, 10)\n",
        "y_test_one_hot = tf.one_hot(y_test, 10)"
      ],
      "execution_count": null,
      "outputs": []
    },
    {
      "cell_type": "code",
      "metadata": {
        "id": "aNzVjI1TK2nq"
      },
      "source": [
        "clothes_names = [\n",
        "    \"T-shirt/top\",\n",
        "    \"Trouser\",\n",
        "    \"Pullover\",\n",
        "    \"Dress\",\n",
        "    \"Coat\",\n",
        "    \"Sandal\",\n",
        "    \"Shirt\",\n",
        "    \"Sneaker\",\n",
        "    \"Bag\",\n",
        "    \"Ankle boot\"\n",
        "]"
      ],
      "execution_count": null,
      "outputs": []
    },
    {
      "cell_type": "code",
      "metadata": {
        "id": "RupUb7_mQAVN"
      },
      "source": [
        "def plot_item(index, scope=X_train, label_scope=y_train):\n",
        "    plt.imshow(scope[index], cmap=plt.cm.binary)\n",
        "    plt.title(clothes_names[label_scope[index]])"
      ],
      "execution_count": null,
      "outputs": []
    },
    {
      "cell_type": "code",
      "metadata": {
        "id": "F2yeuXggRFYk"
      },
      "source": [
        "plt.figure(figsize=(7, 7))\n",
        "for i in range(4):\n",
        "    ax = plt.subplot(2, 2, i+1)\n",
        "    index = random.randrange(0, int(6e+4))\n",
        "    plot_item(index)\n",
        "    plt.axis(False)"
      ],
      "execution_count": null,
      "outputs": []
    },
    {
      "cell_type": "markdown",
      "metadata": {
        "id": "P__c2GghVjEk"
      },
      "source": [
        "## First Model"
      ]
    },
    {
      "cell_type": "code",
      "metadata": {
        "id": "2nBirz9yVifi"
      },
      "source": [
        "# check gpu device\n",
        "tf.test.gpu_device_name()"
      ],
      "execution_count": null,
      "outputs": []
    },
    {
      "cell_type": "code",
      "metadata": {
        "id": "c8QB3gXOcN8n"
      },
      "source": [
        "#@title Letto { display-mode: \"code\" }\n",
        "tf.random.set_seed(42)\n",
        "layers = [\n",
        "    tf.keras.layers.Flatten(input_shape=(28, 28)),\n",
        "    tf.keras.layers.Dense(4, activation='relu'),\n",
        "    tf.keras.layers.Dense(4, activation='relu'),\n",
        "    tf.keras.layers.Dense(10, activation='softmax'),\n",
        "]\n",
        "\n",
        "letto = tf.keras.Sequential(layers)\n",
        "letto.compile(\n",
        "    tf.keras.optimizers.Adam(),\n",
        "    tf.keras.losses.CategoricalCrossentropy(),\n",
        "    ['accuracy'],\n",
        ")\n",
        "\n",
        "history = letto.fit(\n",
        "    X_train_norm,\n",
        "    y_train_one_hot,\n",
        "    epochs=20,\n",
        "    # validation_data=(X_test_norm, y_test_one_hot),\n",
        ")"
      ],
      "execution_count": null,
      "outputs": []
    },
    {
      "cell_type": "code",
      "metadata": {
        "id": "FBlopYeveNJU"
      },
      "source": [
        "letto.evaluate(X_test_norm, y_test_one_hot)"
      ],
      "execution_count": null,
      "outputs": []
    },
    {
      "cell_type": "code",
      "metadata": {
        "id": "YklgEm7vic5o"
      },
      "source": [
        "pd.DataFrame(history.history).plot()"
      ],
      "execution_count": null,
      "outputs": []
    },
    {
      "cell_type": "code",
      "metadata": {
        "id": "I9NIu6ZIv_Ke"
      },
      "source": [
        "pd.DataFrame(history.history['loss']).plot()"
      ],
      "execution_count": null,
      "outputs": []
    },
    {
      "cell_type": "code",
      "metadata": {
        "id": "j5-bWOBfiiz9"
      },
      "source": [
        "letto.summary()"
      ],
      "execution_count": null,
      "outputs": []
    },
    {
      "cell_type": "markdown",
      "metadata": {
        "id": "qTKZf_MvjU39"
      },
      "source": [
        "### Saving model"
      ]
    },
    {
      "cell_type": "code",
      "metadata": {
        "id": "C4OWGmqFiMMa"
      },
      "source": [
        "#letto.save('letto_A.h5')\n",
        "#!cp /content/letto_A.h5 /content/drive/MyDrive/ColabNotebooks/TF/models"
      ],
      "execution_count": null,
      "outputs": []
    },
    {
      "cell_type": "code",
      "metadata": {
        "id": "CFJlBeA2eYds"
      },
      "source": [
        "# Finding learning rate\n",
        "# lrs = 1e-3 * (10**(tf.range(40)/20))\n",
        "# plt.semilogx(lrs, find_lr_history.history[\"loss\"])"
      ],
      "execution_count": null,
      "outputs": []
    }
  ]
}