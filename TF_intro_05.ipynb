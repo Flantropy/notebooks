{
  "nbformat": 4,
  "nbformat_minor": 0,
  "metadata": {
    "colab": {
      "name": "TF_intro_05.ipynb",
      "private_outputs": true,
      "provenance": [],
      "collapsed_sections": [],
      "toc_visible": true,
      "mount_file_id": "1hEuAC-rTzaA9P--hJT1Vp1R82r5JcaY8",
      "authorship_tag": "ABX9TyO+4WLEXTTgsoaa8nVDf2aL",
      "include_colab_link": true
    },
    "kernelspec": {
      "name": "python3",
      "display_name": "Python 3"
    },
    "language_info": {
      "name": "python"
    }
  },
  "cells": [
    {
      "cell_type": "markdown",
      "metadata": {
        "id": "view-in-github",
        "colab_type": "text"
      },
      "source": [
        "<a href=\"https://colab.research.google.com/github/Flantropy/notebooks/blob/main/TF_intro_05.ipynb\" target=\"_parent\"><img src=\"https://colab.research.google.com/assets/colab-badge.svg\" alt=\"Open In Colab\"/></a>"
      ]
    },
    {
      "cell_type": "markdown",
      "metadata": {
        "id": "jaD5hKpGCs2M"
      },
      "source": [
        "# Multiclass classification with **fashion-MNIST**"
      ]
    },
    {
      "cell_type": "code",
      "metadata": {
        "id": "W37kKVsyQGgY"
      },
      "source": [
        "#@title Imports { display-mode: \"code\" }\n",
        "import tensorflow as tf\n",
        "import numpy as np\n",
        "import pandas as pd\n",
        "import matplotlib.pyplot as plt\n",
        "import sklearn as sk\n",
        "import random\n",
        "import itertools\n",
        "from google.colab import files\n",
        "from collections import namedtuple\n",
        "from operator import attrgetter"
      ],
      "execution_count": null,
      "outputs": []
    },
    {
      "cell_type": "markdown",
      "metadata": {
        "id": "ExCXdac4VZYF"
      },
      "source": [
        "## Hands on data"
      ]
    },
    {
      "cell_type": "code",
      "metadata": {
        "id": "oR-ShTm1FDU8"
      },
      "source": [
        "(X_train, y_train), (X_test, y_test) = tf.keras.datasets.fashion_mnist.load_data()"
      ],
      "execution_count": null,
      "outputs": []
    },
    {
      "cell_type": "code",
      "metadata": {
        "id": "_8f8Yq6BuqV4"
      },
      "source": [
        "# normalizing data\n",
        "X_train_norm = X_train / 255.0\n",
        "X_test_norm = X_test / 255.0"
      ],
      "execution_count": null,
      "outputs": []
    },
    {
      "cell_type": "code",
      "metadata": {
        "id": "HVESTPc0hTJW"
      },
      "source": [
        "# one-hot encoding training and test labels\n",
        "y_train_one_hot = tf.one_hot(y_train, 10)\n",
        "y_test_one_hot = tf.one_hot(y_test, 10)"
      ],
      "execution_count": null,
      "outputs": []
    },
    {
      "cell_type": "code",
      "metadata": {
        "id": "aNzVjI1TK2nq"
      },
      "source": [
        "clothes_names = [\n",
        "    \"T-shirt/top\",\n",
        "    \"Trouser\",\n",
        "    \"Pullover\",\n",
        "    \"Dress\",\n",
        "    \"Coat\",\n",
        "    \"Sandal\",\n",
        "    \"Shirt\",\n",
        "    \"Sneaker\",\n",
        "    \"Bag\",\n",
        "    \"Ankle boot\"\n",
        "]"
      ],
      "execution_count": null,
      "outputs": []
    },
    {
      "cell_type": "code",
      "metadata": {
        "id": "RupUb7_mQAVN"
      },
      "source": [
        "def plot_item(index, scope=X_train, label_scope=y_train):\n",
        "    plt.imshow(scope[index], cmap=plt.cm.binary)\n",
        "    plt.title(clothes_names[label_scope[index]])"
      ],
      "execution_count": null,
      "outputs": []
    },
    {
      "cell_type": "code",
      "metadata": {
        "id": "F2yeuXggRFYk"
      },
      "source": [
        "plt.figure(figsize=(7, 7))\n",
        "for i in range(4):\n",
        "    ax = plt.subplot(2, 2, i+1)\n",
        "    index = random.randrange(0, int(6e+4))\n",
        "    plot_item(index)\n",
        "    plt.axis(False)"
      ],
      "execution_count": null,
      "outputs": []
    },
    {
      "cell_type": "markdown",
      "metadata": {
        "id": "P__c2GghVjEk"
      },
      "source": [
        "## Model"
      ]
    },
    {
      "cell_type": "code",
      "metadata": {
        "id": "2nBirz9yVifi"
      },
      "source": [
        "# check gpu device\n",
        "tf.test.gpu_device_name()"
      ],
      "execution_count": null,
      "outputs": []
    },
    {
      "cell_type": "code",
      "metadata": {
        "id": "c8QB3gXOcN8n"
      },
      "source": [
        "#@title Letto { display-mode: \"code\" }\n",
        "tf.random.set_seed(42)\n",
        "layers = [\n",
        "    tf.keras.layers.Flatten(input_shape=(28, 28)),\n",
        "    tf.keras.layers.Dense(4, activation='relu'),\n",
        "    tf.keras.layers.Dense(4, activation='relu'),\n",
        "    tf.keras.layers.Dense(10, activation='softmax'),\n",
        "]\n",
        "\n",
        "letto = tf.keras.Sequential(layers)\n",
        "letto.compile(\n",
        "    tf.keras.optimizers.Adam(),\n",
        "    tf.keras.losses.CategoricalCrossentropy(),\n",
        "    ['accuracy'],\n",
        ")\n",
        "\n",
        "history = letto.fit(\n",
        "    X_train_norm,\n",
        "    y_train_one_hot,\n",
        "    epochs=20,\n",
        "    # validation_data=(X_test_norm, y_test_one_hot),\n",
        ")"
      ],
      "execution_count": null,
      "outputs": []
    },
    {
      "cell_type": "code",
      "metadata": {
        "id": "xF_uimF7Blww"
      },
      "source": [
        "#@title Loading Model { display-mode: \"code\" }\n",
        "# Copy model from Drive\n",
        "#!cp /content/drive/MyDrive/ColabNotebooks/TF/models/letto_A.h5 /content\n",
        "# Loading model\n",
        "#letto = tf.keras.models.load_model('/content/letto_A.h5')"
      ],
      "execution_count": null,
      "outputs": []
    },
    {
      "cell_type": "code",
      "metadata": {
        "id": "FBlopYeveNJU"
      },
      "source": [
        "letto.evaluate(X_test_norm, y_test_one_hot)"
      ],
      "execution_count": null,
      "outputs": []
    },
    {
      "cell_type": "code",
      "metadata": {
        "id": "YklgEm7vic5o"
      },
      "source": [
        "pd.DataFrame(history.history).plot()"
      ],
      "execution_count": null,
      "outputs": []
    },
    {
      "cell_type": "code",
      "metadata": {
        "id": "I9NIu6ZIv_Ke"
      },
      "source": [
        "pd.DataFrame(history.history['loss']).plot()"
      ],
      "execution_count": null,
      "outputs": []
    },
    {
      "cell_type": "code",
      "metadata": {
        "id": "j5-bWOBfiiz9"
      },
      "source": [
        "letto.summary()"
      ],
      "execution_count": null,
      "outputs": []
    },
    {
      "cell_type": "markdown",
      "metadata": {
        "id": "qTKZf_MvjU39"
      },
      "source": [
        "### Saving model"
      ]
    },
    {
      "cell_type": "code",
      "metadata": {
        "id": "C4OWGmqFiMMa"
      },
      "source": [
        "#letto.save('letto_A.h5')\n",
        "#!cp /content/letto_A.h5 /content/drive/MyDrive/ColabNotebooks/TF/models"
      ],
      "execution_count": null,
      "outputs": []
    },
    {
      "cell_type": "code",
      "metadata": {
        "id": "CFJlBeA2eYds"
      },
      "source": [
        "# Finding learning rate\n",
        "# lrs = 1e-3 * (10**(tf.range(40)/20))\n",
        "# plt.semilogx(lrs, find_lr_history.history[\"loss\"])"
      ],
      "execution_count": null,
      "outputs": []
    },
    {
      "cell_type": "markdown",
      "metadata": {
        "id": "zLK1wNRhDZ6M"
      },
      "source": [
        "## Creating Confusion Matrix"
      ]
    },
    {
      "cell_type": "code",
      "metadata": {
        "id": "f2VjmbiaHIwX"
      },
      "source": [
        "def make_confusion_matrix(y_true, y_pred, classes=None, figsize=(15, 15), text_size=10):\n",
        "  # Create the confusion matrix\n",
        "  cm = sk.metrics.confusion_matrix(y_true, y_pred)\n",
        "  cm_norm = cm.astype(\"float\") / cm.sum(axis=1)[:, np.newaxis] # normalize our confusion matrix\n",
        "  n_classes = cm.shape[0]\n",
        "\n",
        "  # Let's prettify it\n",
        "  fig, ax = plt.subplots(figsize=figsize)\n",
        "  # Create a matrix plot\n",
        "  cax = ax.matshow(cm, cmap=plt.cm.Blues)\n",
        "  fig.colorbar(cax)\n",
        "\n",
        "  # Set labels to be classes \n",
        "  if classes:\n",
        "    labels = classes\n",
        "  else:\n",
        "    labels = np.arange(cm.shape[0])\n",
        "\n",
        "  # Label the axes\n",
        "  ax.set(title=\"Confusion Matrix\",\n",
        "        xlabel=\"Predicted Label\",\n",
        "        ylabel=\"True Label\",\n",
        "        xticks=np.arange(n_classes),\n",
        "        yticks=np.arange(n_classes),\n",
        "        xticklabels=labels, \n",
        "        yticklabels=labels)\n",
        "\n",
        "  # Set x-axis labels to bottom\n",
        "  ax.xaxis.set_label_position(\"bottom\")\n",
        "  ax.xaxis.tick_bottom()\n",
        "\n",
        "  # Adjust label size\n",
        "  ax.yaxis.label.set_size(text_size)\n",
        "  ax.xaxis.label.set_size(text_size)\n",
        "  ax.title.set_size(text_size)\n",
        "\n",
        "  # Set threshold for different colors\n",
        "  threshold = (cm.max() + cm.min()) / 2.\n",
        "\n",
        "  # Plot the text on each cell\n",
        "  for i, j in itertools.product(range(cm.shape[0]), range(cm.shape[1])):\n",
        "    plt.text(j, i, f\"{cm[i, j]} ({cm_norm[i, j]*100:.1f}%)\",\n",
        "            horizontalalignment=\"center\",\n",
        "            color=\"white\" if cm[i, j] > threshold else \"black\",\n",
        "            size=text_size)"
      ],
      "execution_count": null,
      "outputs": []
    },
    {
      "cell_type": "code",
      "metadata": {
        "id": "uv81Ubc-D38p"
      },
      "source": [
        "y_probs = letto.predict(X_test_norm)"
      ],
      "execution_count": null,
      "outputs": []
    },
    {
      "cell_type": "code",
      "metadata": {
        "id": "86YJGQiPE3we"
      },
      "source": [
        "y_pred = y_probs.argmax(axis=1)"
      ],
      "execution_count": null,
      "outputs": []
    },
    {
      "cell_type": "code",
      "metadata": {
        "id": "mfGvSRYXFs2v"
      },
      "source": [
        "sk.metrics.confusion_matrix(y_test, y_pred)"
      ],
      "execution_count": null,
      "outputs": []
    },
    {
      "cell_type": "code",
      "metadata": {
        "id": "_v9cs459F-6t"
      },
      "source": [
        "make_confusion_matrix(y_test, y_pred, clothes_names)"
      ],
      "execution_count": null,
      "outputs": []
    },
    {
      "cell_type": "code",
      "metadata": {
        "id": "DZpTH3oVHk5g"
      },
      "source": [
        "def plot_random_image(model: tf.keras.Model, images, true_labels, classes):\n",
        "    position = random.randrange(0, len(images))\n",
        "    random_image = images[position]\n",
        "    pred_prob = model.predict(random_image.reshape(1, 28, 28))\n",
        "    percentile = 100 * tf.reduce_max(pred_prob)\n",
        "    pred_label = classes[pred_prob.argmax()]\n",
        "    true_label = classes[true_labels[position]]\n",
        "    color = 'green' if pred_label == true_label else 'red'\n",
        "    plt.imshow(random_image, cmap=plt.cm.binary)\n",
        "    plt.xlabel(f'Predicted: {pred_label} {percentile:2.0f} (True: {true_label}) ',\n",
        "               color=color)\n"
      ],
      "execution_count": null,
      "outputs": []
    },
    {
      "cell_type": "code",
      "metadata": {
        "id": "QsBlK9L4Qipa"
      },
      "source": [
        "plot_random_image(letto, X_test_norm, y_test, clothes_names)"
      ],
      "execution_count": null,
      "outputs": []
    },
    {
      "cell_type": "markdown",
      "metadata": {
        "id": "dyrFyXl0RwBi"
      },
      "source": [
        "## Explore our model"
      ]
    },
    {
      "cell_type": "code",
      "metadata": {
        "id": "YJCUx9VGYt9b"
      },
      "source": [
        "letto.layers"
      ],
      "execution_count": null,
      "outputs": []
    },
    {
      "cell_type": "code",
      "metadata": {
        "id": "kprRhnxoYydp"
      },
      "source": [
        "weigths, biases = letto.layers[1].get_weights()"
      ],
      "execution_count": null,
      "outputs": []
    },
    {
      "cell_type": "code",
      "metadata": {
        "id": "yPPv6JCTZU6g"
      },
      "source": [
        "weigths, weigths.shape"
      ],
      "execution_count": null,
      "outputs": []
    },
    {
      "cell_type": "code",
      "metadata": {
        "id": "WVaHO4fdZqBq"
      },
      "source": [
        "biases, biases.shape"
      ],
      "execution_count": null,
      "outputs": []
    },
    {
      "cell_type": "code",
      "metadata": {
        "id": "v_Us3XxZbN7p"
      },
      "source": [
        "tf.keras.utils.plot_model(letto, show_shapes=True)"
      ],
      "execution_count": null,
      "outputs": []
    },
    {
      "cell_type": "code",
      "metadata": {
        "id": "WYM-ntHecNOR"
      },
      "source": [
        ""
      ],
      "execution_count": null,
      "outputs": []
    }
  ]
}